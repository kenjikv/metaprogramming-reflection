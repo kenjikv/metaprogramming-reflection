{
 "cells": [
  {
   "cell_type": "markdown",
   "id": "4ce7051e-45af-47e9-a98a-0bb339d38120",
   "metadata": {},
   "source": [
    "# Metaprogramación en Python\n",
    "\n",
    "Este proyecto demuestra cómo realizar una **regresión lineal simple** utilizando conceptos de metaprogramacion en Python. \n",
    "\n",
    "---\n",
    "\n",
    "## Requisitos del Sistema\n",
    "\n",
    "1. **Python 3.8 o superior**.\n",
    "2. **Anaconda (opcional)**: Se recomienda instalar Anaconda para manejar el entorno con facilidad.\n",
    "3. **Librerías requeridas**:\n",
    "   - `numpy`\n",
    "   - `scikit-learn`\n",
    "   - `matplotlib`\n",
    "   - `jupyter`\n",
    "\n",
    "---\n",
    "\n",
    "## Instalación\n",
    "\n",
    "### Opción 1: Usando Anaconda (Recomendado)\n",
    "1. Descarga e instala **Anaconda**: [https://www.anaconda.com/](https://www.anaconda.com/).\n",
    "2. Crea un entorno para este proyecto:\n",
    "   ```bash\n",
    "   conda create -n mi_entorno python=3.9\n",
    "   conda activate mi_entorno\n"
   ]
  },
  {
   "cell_type": "code",
   "execution_count": 97,
   "id": "c89eef00-7ca7-471e-8075-c52837ec7b47",
   "metadata": {},
   "outputs": [],
   "source": [
    "import time\n",
    "import numpy as np\n",
    "import inspect\n",
    "import matplotlib.pyplot as plt\n",
    "from sklearn.linear_model import LinearRegression \n",
    "from sklearn.tree import DecisionTreeRegressor\n",
    "from sklearn.metrics import mean_squared_error, r2_score\n",
    "from abc import ABC, abstractmethod\n"
   ]
  },
  {
   "cell_type": "code",
   "execution_count": 98,
   "id": "614e37a9-c118-4605-a21d-5d14eb4ea36b",
   "metadata": {},
   "outputs": [],
   "source": [
    "# Decorador para medir el tiempo de ejecución\n",
    "def medir_tiempo(func):\n",
    "    def wrapper(*args, **kwargs):\n",
    "        inicio = time.time()\n",
    "        resultado = func(*args, **kwargs)\n",
    "        fin = time.time()\n",
    "        print(f\"{func.__name__} ejecutado en {fin - inicio:.6f} segundos\")\n",
    "        return resultado\n",
    "    return wrapper"
   ]
  },
  {
   "cell_type": "code",
   "execution_count": 99,
   "id": "90f61941-5e51-4d90-8701-47d44dbd19d7",
   "metadata": {},
   "outputs": [],
   "source": [
    "# Metaclase que obliga a implementar 'train' y 'predict'\n",
    "class ModeloMLMeta(type):\n",
    "    def __new__(cls, name, bases, dct):\n",
    "        if 'train' not in dct or 'predict' not in dct:\n",
    "            raise TypeError(f\"La clase {name} debe implementar 'train' y 'predict'\")\n",
    "        return super().__new__(cls, name, bases, dct)"
   ]
  },
  {
   "cell_type": "code",
   "execution_count": 100,
   "id": "37c4db6d-d48f-4305-bab4-6c540abffd7f",
   "metadata": {},
   "outputs": [],
   "source": [
    "# Clase Abstracta Base\n",
    "class BaseModeloML(metaclass=ModeloMLMeta):\n",
    "    def train(self, X, y):\n",
    "        pass\n",
    "        \n",
    "    def predict(self, X):\n",
    "        pass"
   ]
  },
  {
   "cell_type": "code",
   "execution_count": 101,
   "id": "09dc5ab4-943b-48ce-95e8-07304877cd31",
   "metadata": {},
   "outputs": [],
   "source": [
    "# Implementación de un Modelo de Regresión Lineal\n",
    "class ModeloRegresion(BaseModeloML):\n",
    "    def __init__(self):\n",
    "        self.model = LinearRegression()\n",
    "\n",
    "    @medir_tiempo  # Decorador para medir tiempo\n",
    "    def train(self, X, y):\n",
    "        self.model.fit(X, y)\n",
    "\n",
    "    @medir_tiempo  # Decorador para medir tiempo\n",
    "    def predict(self, X):\n",
    "        return self.model.predict(X)"
   ]
  },
  {
   "cell_type": "code",
   "execution_count": 102,
   "id": "7c8960e3-733a-42b1-b4d3-b4b6ff62a975",
   "metadata": {},
   "outputs": [],
   "source": [
    "# Generar datos sintéticos\n",
    "np.random.seed(42)\n",
    "X = 2 * np.random.rand(100, 1)\n",
    "y = 4 + 3 * X + np.random.randn(100, 1)"
   ]
  },
  {
   "cell_type": "code",
   "execution_count": 103,
   "id": "82a4c23d-06c0-4b36-a471-9cf86064dd28",
   "metadata": {},
   "outputs": [
    {
     "data": {
      "text/plain": [
       "array([[0.74908024],\n",
       "       [1.90142861],\n",
       "       [1.46398788],\n",
       "       [1.19731697],\n",
       "       [0.31203728],\n",
       "       [0.31198904],\n",
       "       [0.11616722],\n",
       "       [1.73235229],\n",
       "       [1.20223002],\n",
       "       [1.41614516]])"
      ]
     },
     "execution_count": 103,
     "metadata": {},
     "output_type": "execute_result"
    }
   ],
   "source": [
    "X[0:10]"
   ]
  },
  {
   "cell_type": "code",
   "execution_count": 104,
   "id": "5df66d72-ca8d-4182-8f33-60eebe651d28",
   "metadata": {},
   "outputs": [
    {
     "data": {
      "text/plain": [
       "array([[6.33428778],\n",
       "       [9.40527849],\n",
       "       [8.48372443],\n",
       "       [5.60438199],\n",
       "       [4.71643995],\n",
       "       [5.29307969],\n",
       "       [5.82639572],\n",
       "       [8.67878666],\n",
       "       [6.79819647],\n",
       "       [7.74667842]])"
      ]
     },
     "execution_count": 104,
     "metadata": {},
     "output_type": "execute_result"
    }
   ],
   "source": [
    "y[0:10]"
   ]
  },
  {
   "cell_type": "code",
   "execution_count": 105,
   "id": "a24b9765-01eb-4aa4-be89-6317d4399a1b",
   "metadata": {},
   "outputs": [
    {
     "name": "stdout",
     "output_type": "stream",
     "text": [
      "train ejecutado en 0.000988 segundos\n",
      "predict ejecutado en 0.000999 segundos\n"
     ]
    }
   ],
   "source": [
    "# Prueba con Decorador (Mide Tiempo de Ejecución)\n",
    "modelo_con_decorador = ModeloRegresion()\n",
    "modelo_con_decorador.train(X, y)\n",
    "y_pred = modelo_con_decorador.predict(X)"
   ]
  },
  {
   "cell_type": "code",
   "execution_count": 106,
   "id": "7d2590c4-0c07-41e8-aafe-63431078b549",
   "metadata": {},
   "outputs": [],
   "source": [
    "# Prueba sin Decorador (Medir Manualmente el Tiempo)\n",
    "modelo_sin_decorador = LinearRegression()"
   ]
  },
  {
   "cell_type": "code",
   "execution_count": 107,
   "id": "df5b6932-68d0-4273-813e-e37225b147b8",
   "metadata": {},
   "outputs": [
    {
     "name": "stdout",
     "output_type": "stream",
     "text": [
      "Entrenamiento sin decorador ejecutado en 0.001003 segundos\n"
     ]
    }
   ],
   "source": [
    "inicio = time.time()\n",
    "modelo_sin_decorador.fit(X, y)\n",
    "fin = time.time()\n",
    "print(f\"Entrenamiento sin decorador ejecutado en {fin - inicio:.6f} segundos\")"
   ]
  },
  {
   "cell_type": "code",
   "execution_count": 108,
   "id": "7335415b-fd98-4a9a-ac16-89122ed20437",
   "metadata": {},
   "outputs": [
    {
     "name": "stdout",
     "output_type": "stream",
     "text": [
      "Predicción sin decorador ejecutado en 0.001005 segundos\n"
     ]
    }
   ],
   "source": [
    "inicio = time.time()\n",
    "y_pred_sin = modelo_sin_decorador.predict(X)\n",
    "fin = time.time()\n",
    "print(f\"Predicción sin decorador ejecutado en {fin - inicio:.6f} segundos\")"
   ]
  },
  {
   "cell_type": "code",
   "execution_count": 109,
   "id": "32152b32-082c-486e-b351-82273b82e329",
   "metadata": {},
   "outputs": [],
   "source": [
    "# Evaluación del Modelo con decorador\n",
    "mse = mean_squared_error(y, y_pred)\n",
    "r2 = r2_score(y, y_pred)"
   ]
  },
  {
   "cell_type": "code",
   "execution_count": 110,
   "id": "489c61de-c53a-4274-b494-79bf2c2c5df6",
   "metadata": {},
   "outputs": [
    {
     "name": "stdout",
     "output_type": "stream",
     "text": [
      "\n",
      "Métricas del modelo con decorador:\n",
      "Error cuadrático medio (MSE): 0.81\n",
      "Coeficiente de determinación (R²): 0.77\n"
     ]
    }
   ],
   "source": [
    "print(f\"\\nMétricas del modelo con decorador:\")\n",
    "print(f\"Error cuadrático medio (MSE): {mse:.2f}\")\n",
    "print(f\"Coeficiente de determinación (R²): {r2:.2f}\")"
   ]
  },
  {
   "cell_type": "code",
   "execution_count": 111,
   "id": "c2648484-9771-4e0e-a278-4205c7731988",
   "metadata": {},
   "outputs": [],
   "source": [
    "# Evaluación del Modelo sin decorador\n",
    "mse = mean_squared_error(y, y_pred_sin)\n",
    "r2 = r2_score(y, y_pred_sin)"
   ]
  },
  {
   "cell_type": "code",
   "execution_count": 112,
   "id": "f23f2663-8c02-44b8-93a7-b91a966d0c1b",
   "metadata": {},
   "outputs": [
    {
     "name": "stdout",
     "output_type": "stream",
     "text": [
      "\n",
      "Métricas del modelo sin decorador:\n",
      "Error cuadrático medio (MSE): 0.81\n",
      "Coeficiente de determinación (R²): 0.77\n"
     ]
    }
   ],
   "source": [
    "print(f\"\\nMétricas del modelo sin decorador:\")\n",
    "print(f\"Error cuadrático medio (MSE): {mse:.2f}\")\n",
    "print(f\"Coeficiente de determinación (R²): {r2:.2f}\")"
   ]
  },
  {
   "cell_type": "code",
   "execution_count": 113,
   "id": "7c22c728-3861-45ab-aec9-192c5af89200",
   "metadata": {},
   "outputs": [
    {
     "name": "stdout",
     "output_type": "stream",
     "text": [
      "\n",
      " Métodos del modelo inspeccionados dinámicamente:\n",
      "  - __init__(self)\n",
      "  - predict(*args, **kwargs)\n",
      "  - train(*args, **kwargs)\n"
     ]
    }
   ],
   "source": [
    "# Inspección con inspect\n",
    "print(\"\\n Métodos del modelo inspeccionados dinámicamente:\")\n",
    "for nombre, metodo in inspect.getmembers(ModeloRegresion, predicate=inspect.isfunction):\n",
    "    print(f\"  - {nombre}{inspect.signature(metodo)}\")"
   ]
  },
  {
   "cell_type": "markdown",
   "id": "fb25a6a9-ed5b-4df2-950d-d35f1830ad38",
   "metadata": {},
   "source": [
    "rendimiento en tabla de rendimiento\n",
    "\n",
    "Mantenibilidad\n"
   ]
  },
  {
   "cell_type": "code",
   "execution_count": 114,
   "id": "b8b06e5c-8113-4f4d-8a55-71d9e5066d1a",
   "metadata": {},
   "outputs": [],
   "source": [
    "# Codigo sin decorador"
   ]
  },
  {
   "cell_type": "code",
   "execution_count": 115,
   "id": "2bf0c5be-0c33-4532-adab-2768af82314f",
   "metadata": {},
   "outputs": [],
   "source": [
    "class ModeloRegresion:\n",
    "    def __init__(self):\n",
    "        self.model = LinearRegression()\n",
    "\n",
    "    def train(self, X, y):\n",
    "        inicio = time.time()\n",
    "        self.model.fit(X, y)\n",
    "        fin = time.time()\n",
    "        print(f\"train ejecutado en {fin - inicio:.6f} segundos\")\n",
    "\n",
    "    def predict(self, X):\n",
    "        inicio = time.time()\n",
    "        resultado = self.model.predict(X)\n",
    "        fin = time.time()\n",
    "        print(f\"predict ejecutado en {fin - inicio:.6f} segundos\")\n",
    "        return resultado\n"
   ]
  },
  {
   "cell_type": "code",
   "execution_count": 116,
   "id": "aacd6128-b5b9-4e99-bbca-2af5c59bf138",
   "metadata": {},
   "outputs": [],
   "source": [
    "class ModeloRegresion(BaseModeloML):\n",
    "    def __init__(self):\n",
    "        self.model = LinearRegression()\n",
    "\n",
    "    @medir_tiempo\n",
    "    def train(self, X, y):\n",
    "        self.model.fit(X, y)\n",
    "\n",
    "    @medir_tiempo\n",
    "    def predict(self, X):\n",
    "        return self.model.predict(X)\n"
   ]
  },
  {
   "cell_type": "markdown",
   "id": "caa44717-ea23-4e74-8b8f-aac95073aeb3",
   "metadata": {},
   "source": [
    "3 Complejidad   Se puede aplicar a varias clases ya que existen muchos modelos que se pueden implementar de esta manera.\n",
    "Por ejemplo un modelo de arbol de decisión:"
   ]
  },
  {
   "cell_type": "code",
   "execution_count": 117,
   "id": "e3e9681a-6c67-4cf2-b7aa-b11491d1a9cb",
   "metadata": {},
   "outputs": [],
   "source": [
    "class ModeloArbolDecision(BaseModeloML):\n",
    "    def __init__(self):\n",
    "        self.model = DecisionTreeRegressor()\n",
    "\n",
    "    @medir_tiempo\n",
    "    def train(self, X, y):\n",
    "        self.model.fit(X, y)\n",
    "\n",
    "    @medir_tiempo\n",
    "    def predict(self, X):\n",
    "        return self.model.predict(X)\n"
   ]
  },
  {
   "cell_type": "code",
   "execution_count": 118,
   "id": "39e680a0-04e2-48a0-98c8-7fa956b77cb1",
   "metadata": {},
   "outputs": [
    {
     "name": "stdout",
     "output_type": "stream",
     "text": [
      "train ejecutado en 0.002003 segundos\n",
      "predict ejecutado en 0.000000 segundos\n"
     ]
    }
   ],
   "source": [
    "# Prueba con Decorador (Mide Tiempo de Ejecución)\n",
    "modelo_arbol_con_decorador = ModeloArbolDecision()\n",
    "modelo_arbol_con_decorador.train(X, y)\n",
    "y_pred_arbol = modelo_arbol_con_decorador.predict(X)"
   ]
  },
  {
   "cell_type": "code",
   "execution_count": null,
   "id": "28c03d4b-c18b-41cd-94b2-e246a7897b20",
   "metadata": {},
   "outputs": [],
   "source": []
  },
  {
   "cell_type": "code",
   "execution_count": null,
   "id": "23b509fe-bfa0-4648-bc81-ef1236b2810d",
   "metadata": {},
   "outputs": [],
   "source": []
  }
 ],
 "metadata": {
  "kernelspec": {
   "display_name": "Python 3 (ipykernel)",
   "language": "python",
   "name": "python3"
  },
  "language_info": {
   "codemirror_mode": {
    "name": "ipython",
    "version": 3
   },
   "file_extension": ".py",
   "mimetype": "text/x-python",
   "name": "python",
   "nbconvert_exporter": "python",
   "pygments_lexer": "ipython3",
   "version": "3.11.7"
  }
 },
 "nbformat": 4,
 "nbformat_minor": 5
}
